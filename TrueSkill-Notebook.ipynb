{
 "cells": [
  {
   "cell_type": "code",
   "execution_count": 30,
   "metadata": {},
   "outputs": [],
   "source": [
    "import pandas as pd, numpy as np"
   ]
  },
  {
   "cell_type": "code",
   "execution_count": 31,
   "metadata": {},
   "outputs": [
    {
     "name": "stdout",
     "output_type": "stream",
     "text": [
      "Requirement already satisfied: trueskill in /opt/conda/lib/python3.6/site-packages\r\n",
      "Requirement already satisfied: six in /opt/conda/lib/python3.6/site-packages (from trueskill)\r\n"
     ]
    }
   ],
   "source": [
    "!pip install trueskill"
   ]
  },
  {
   "cell_type": "code",
   "execution_count": 32,
   "metadata": {},
   "outputs": [],
   "source": [
    "from trueskill import TrueSkill, Rating, rate_1vs1"
   ]
  },
  {
   "cell_type": "code",
   "execution_count": 60,
   "metadata": {},
   "outputs": [],
   "source": [
    "ts = TrueSkill(draw_probability=0.01)\n",
    "beta = 25/6"
   ]
  },
  {
   "cell_type": "code",
   "execution_count": 61,
   "metadata": {},
   "outputs": [],
   "source": [
    "def win_proba(t1, t2):\n",
    "    delta_mu = t1.mu - t2.mu\n",
    "    sum_sigma = (t1.sigma * t1.sigma) + (t2.sigma * t2.sigma)\n",
    "    denom = np.sqrt(2 * (beta*beta) + (sum_sigma))\n",
    "    return ts.cdf(delta_mu/denom)"
   ]
  },
  {
   "cell_type": "code",
   "execution_count": 62,
   "metadata": {},
   "outputs": [],
   "source": [
    "submission = pd.read_csv('./SampleSubmissionStage1.csv')\n",
    "submission[['Season', 'Team1', 'Team2']] = submission.apply(lambda x: pd.Series([int(t) for t in x.ID.split('_')]), axis=1)\n"
   ]
  },
  {
   "cell_type": "code",
   "execution_count": 63,
   "metadata": {},
   "outputs": [],
   "source": [
    "tourney = pd.read_csv('./DataFiles/RegularSeasonCompactResults.csv')\n",
    "team_ids = np.unique(np.concatenate([tourney.WTeamID.values, tourney.LTeamID.values]))\n",
    "ratings = {tid: ts.Rating() for tid in team_ids}"
   ]
  },
  {
   "cell_type": "code",
   "execution_count": 64,
   "metadata": {},
   "outputs": [],
   "source": [
    "def feed_season_results(season):\n",
    "    print('Season = {}'.format(season))\n",
    "    tourney_1 = tourney[tourney.Season == season]\n",
    "    for x in tourney_1.itertuples():\n",
    "        ratings[x.WTeamID], ratings[x.LTeamID] = rate_1vs1(ratings[x.WTeamID], ratings[x.LTeamID])"
   ]
  },
  {
   "cell_type": "code",
   "execution_count": 65,
   "metadata": {},
   "outputs": [],
   "source": [
    "def update_pred(season):\n",
    "    beta = np.std([x.mu for x in ratings.values()])\n",
    "    print('Beta = {}'.format(beta))\n",
    "    submission.loc[submission.Season==season, 'Pred'] = submission[submission.Season==season].apply(lambda x:win_proba(ratings[x.Team1], ratings[x.Team2]), axis=1)"
   ]
  },
  {
   "cell_type": "code",
   "execution_count": 66,
   "metadata": {},
   "outputs": [
    {
     "name": "stdout",
     "output_type": "stream",
     "text": [
      "Season = 1985\n",
      "Season = 1986\n",
      "Season = 1987\n",
      "Season = 1988\n",
      "Season = 1989\n",
      "Season = 1990\n",
      "Season = 1991\n",
      "Season = 1992\n",
      "Season = 1993\n",
      "Season = 1994\n",
      "Season = 1995\n",
      "Season = 1996\n",
      "Season = 1997\n",
      "Season = 1998\n",
      "Season = 1999\n",
      "Season = 2000\n",
      "Season = 2001\n",
      "Season = 2002\n",
      "Season = 2003\n",
      "Season = 2004\n",
      "Season = 2005\n",
      "Season = 2006\n",
      "Season = 2007\n",
      "Season = 2008\n",
      "Season = 2009\n",
      "Season = 2010\n",
      "Season = 2011\n",
      "Season = 2012\n",
      "Season = 2013\n",
      "Beta = 5.173598443091855\n",
      "Season = 2014\n",
      "Beta = 5.2203241593615415\n",
      "Season = 2015\n",
      "Beta = 5.175775424826821\n",
      "Season = 2016\n",
      "Beta = 5.158745585314826\n",
      "Season = 2017\n"
     ]
    }
   ],
   "source": [
    "for season in sorted(tourney.Season.unique())[:-4]:\n",
    "    feed_season_results(season)\n",
    "    \n",
    "update_pred(2014)\n",
    "feed_season_results(2014)\n",
    "update_pred(2015)\n",
    "feed_season_results(2015)\n",
    "update_pred(2016)\n",
    "feed_season_results(2016)\n",
    "update_pred(2017)\n",
    "feed_season_results(2017)\n",
    "\n",
    "submission.drop(['Season', 'Team1', 'Team2'], axis=1, inplace=True)\n",
    "submission.to_csv('trueskill_estimator_1.csv', index=None)"
   ]
  },
  {
   "cell_type": "code",
   "execution_count": null,
   "metadata": {},
   "outputs": [],
   "source": []
  }
 ],
 "metadata": {
  "kernelspec": {
   "display_name": "Python 3",
   "language": "python",
   "name": "python3"
  },
  "language_info": {
   "codemirror_mode": {
    "name": "ipython",
    "version": 3
   },
   "file_extension": ".py",
   "mimetype": "text/x-python",
   "name": "python",
   "nbconvert_exporter": "python",
   "pygments_lexer": "ipython3",
   "version": "3.6.3"
  }
 },
 "nbformat": 4,
 "nbformat_minor": 2
}
