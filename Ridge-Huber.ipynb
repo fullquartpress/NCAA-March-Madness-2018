{
 "cells": [
  {
   "cell_type": "code",
   "execution_count": 52,
   "metadata": {},
   "outputs": [],
   "source": [
    "import pandas as pd\n",
    "import numpy as np\n",
    "from sklearn import *\n"
   ]
  },
  {
   "cell_type": "code",
   "execution_count": 53,
   "metadata": {},
   "outputs": [],
   "source": [
    "# datafiles = sorted(glob.glob('../input/**'))\n",
    "# datafiles = {file.split('/')[-1].split('.')[0]: pd.read_csv(file, encoding='latin-1') for file in datafiles}\n",
    "\n",
    "NCAA_compact = pd.read_csv('./DataFiles/NCAATourneyCompactResults.csv')\n",
    "NCAA_detailed = pd.read_csv('./DataFiles/NCAATourneyDetailedResults.csv')\n",
    "reg_compact = pd.read_csv('./DataFiles/RegularSeasonCompactResults.csv')\n",
    "reg_detailed = pd.read_csv('./DataFiles/RegularSeasonDetailedResults.csv')\n",
    "secondary_compact = pd.read_csv('./DataFiles/SecondaryTourneyCompactResults.csv')"
   ]
  },
  {
   "cell_type": "code",
   "execution_count": 54,
   "metadata": {},
   "outputs": [],
   "source": [
    "WLoc = {'A': 1, 'H': 2, 'N': 3}\n",
    "Secondary_Tourney = {'NIT': 1, 'CBI': 2, 'CIT': 3, 'V16': 4, 'Regular': 5 ,'NCAA': 6}"
   ]
  },
  {
   "cell_type": "markdown",
   "metadata": {},
   "source": [
    "## Getting our massive data frame.\n"
   ]
  },
  {
   "cell_type": "code",
   "execution_count": 55,
   "metadata": {},
   "outputs": [],
   "source": [
    "games = pd.concat((NCAA_compact,reg_compact), axis = 0, ignore_index=True)\n",
    "\n",
    "games = pd.concat((games, secondary_compact), axis=0, ignore_index=True)\n"
   ]
  },
  {
   "cell_type": "code",
   "execution_count": 56,
   "metadata": {},
   "outputs": [
    {
     "data": {
      "text/plain": [
       "(154285, 9)"
      ]
     },
     "execution_count": 56,
     "metadata": {},
     "output_type": "execute_result"
    }
   ],
   "source": [
    "games.reset_index(drop=True, inplace=True)\n",
    "games['WLoc'] = games[\"WLoc\"].map(WLoc)\n",
    "games['SecondaryTourney'] = games['SecondaryTourney'].map(Secondary_Tourney)\n",
    "games.head()\n",
    "games.shape"
   ]
  },
  {
   "cell_type": "markdown",
   "metadata": {},
   "source": [
    "## Manipulating the data/ Feature Engineering"
   ]
  },
  {
   "cell_type": "code",
   "execution_count": 57,
   "metadata": {},
   "outputs": [],
   "source": [
    "games['ID'] = games.apply(lambda x: '_'.join(map(str,[x['Season']]+sorted([x['WTeamID'],x['LTeamID']]))),axis=1)\n",
    "\n",
    "games['IDTeams'] = games.apply(lambda x: '_'.join(map(str, sorted([x['WTeamID'],x['LTeamID']]))),axis=1)\n",
    "\n",
    "games['Team1'] = games.apply(lambda x: sorted([x['WTeamID'], x['LTeamID']])[0], axis = 1)\n",
    "\n",
    "games['Team2'] = games.apply(lambda x: sorted([x['WTeamID'], x['LTeamID']])[1], axis = 1)\n",
    "\n",
    "games['IDTeam1'] = games.apply(lambda x: '_'.join(map(str, [x['Season'], x['Team1']])), axis=1)\n",
    "\n",
    "games['IDTeam2'] = games.apply(lambda x: '_'.join(map(str, [x['Season'], x['Team2']])), axis=1)"
   ]
  },
  {
   "cell_type": "markdown",
   "metadata": {},
   "source": [
    "## Add Seed Data"
   ]
  },
  {
   "cell_type": "code",
   "execution_count": 58,
   "metadata": {},
   "outputs": [],
   "source": [
    "#import first\n",
    "seeds = pd.read_csv('./DataFiles/NCAATourneySeeds.csv')\n",
    "\n",
    "seeds = {'_'.join(map(str,[int(k1), k2])): int(v[1:3]) for k1, v, k2 in seeds.values }\n",
    "\n",
    "games['Team1Seed'] = games['IDTeam1'].map(seeds).fillna(0)\n",
    "games['Team2Seed'] = games['IDTeam2'].map(seeds).fillna(0)"
   ]
  },
  {
   "cell_type": "markdown",
   "metadata": {},
   "source": [
    "## Additional Features and some Cleanup"
   ]
  },
  {
   "cell_type": "code",
   "execution_count": 59,
   "metadata": {},
   "outputs": [],
   "source": [
    "games['Score_Differential'] = games['WScore'] - games['LScore']\n",
    "games['Predictions'] = games.apply(lambda x: 1. if sorted([x['WTeamID'], x['LTeamID']])[0] == x['WTeamID'] else 0.0, axis = 1)"
   ]
  },
  {
   "cell_type": "code",
   "execution_count": 60,
   "metadata": {},
   "outputs": [],
   "source": [
    "games['Normalized_Score_Diff'] = games.apply(lambda x: x['Score_Differential'] * -1. if x['Predictions']== 0. else x['Score_Differential'], axis=1)\n",
    "games['Seed_Differential'] = games[\"Team1Seed\"] - games['Team2Seed']"
   ]
  },
  {
   "cell_type": "code",
   "execution_count": 61,
   "metadata": {},
   "outputs": [],
   "source": [
    "games = games.fillna(-1)"
   ]
  },
  {
   "cell_type": "markdown",
   "metadata": {},
   "source": [
    "## Train Test Split / Prepping the Test File."
   ]
  },
  {
   "cell_type": "code",
   "execution_count": 31,
   "metadata": {},
   "outputs": [],
   "source": [
    "submission = pd.read_csv('./SampleSubmissionStage1.csv')\n",
    "submission['WLoc'] = 3\n",
    "submission['SecondaryTourney'] = 6\n",
    "submission['Season'] = submission['ID'].map(lambda x: x.split('_')[0])\n",
    "submission['Season'] = submission['ID'].map(lambda x: x.split('_')[0])\n",
    "submission['Team1'] = submission['ID'].map(lambda x: x.split('_')[1])\n",
    "submission['Team2'] = submission['ID'].map(lambda x: x.split('_')[2])\n",
    "submission['IDTeams'] = submission.apply(lambda x: '_'.join(map(str, [x['Team1'], x['Team2']])), axis=1)\n",
    "submission['IDTeam1'] = submission.apply(lambda x: '_'.join(map(str, [x['Season'], x['Team1']])), axis=1)\n",
    "submission['IDTeam2'] = submission.apply(lambda x: '_'.join(map(str, [x['Season'], x['Team2']])), axis=1)\n",
    "submission['Team1Seed'] = submission['IDTeam1'].map(seeds).fillna(0)\n",
    "submission['Team2Seed'] = submission['IDTeam2'].map(seeds).fillna(0)\n",
    "submission['Seed_Differential'] = submission['Team1Seed'] - submission['Team2Seed']"
   ]
  },
  {
   "cell_type": "code",
   "execution_count": 120,
   "metadata": {},
   "outputs": [
    {
     "name": "stdout",
     "output_type": "stream",
     "text": [
      "2014\n",
      "2015\n",
      "2016\n",
      "2017\n"
     ]
    }
   ],
   "source": [
    "#Prep the results.\n",
    "\n",
    "results = []\n",
    "for season in submission['Season'].unique():\n",
    "    print(season)\n",
    "    x1 = games[((games['Season']<int(season)) & (games['SecondaryTourney']==6))]\n",
    "    x1 = pd.concat((x1, games[((games['Season']<int(int(season)+1)) & (games['SecondaryTourney']!=6))]), axis=0, ignore_index=True)\n",
    "    x2 = games[((games['Season'] > int(season)) & (games['SecondaryTourney'] == 6))]\n",
    "    \n",
    "    test = submission[submission['Season'] == season]\n",
    "    \n",
    "    sdn = x1.groupby(['IDTeams'], as_index=False)[['Normalized_Score_Diff']].mean()\n",
    "    test = pd.merge(test, sdn, how='left', on=['IDTeams'])\n",
    "    test['Normalized_Score_Diff'] = test['Normalized_Score_Diff'].fillna(0.0)\n",
    "    \n",
    "    #Setting up the model / interactions.\n",
    "\n",
    "    interactions = games[['IDTeam2', 'IDTeam1', 'Season', 'Predictions']].rename(columns={'IDTeam2': 'Target', 'IDTeam1': 'Common'})\n",
    "    interactions['Predictions'] = interactions['Predictions'] * -1.\n",
    "    interactions = pd.concat((interactions, games[['IDTeam1', 'IDTeam2', 'Season', 'Predictions']].rename(columns={'IDTeam1': 'Target', 'IDTeam2': 'Common'})),axis=0, ignore_index=True).reset_index(drop=True)\n",
    "    interactions = interactions[((interactions['Season'] <= int(season)) & (interactions['Season'] > int(season)-2))]\n",
    "    interactions = pd.merge(interactions, interactions, how='inner', on=['Common', 'Season'])\n",
    "    interactions = interactions[interactions['Target_x'] != interactions['Target_y']]\n",
    "    interactions['IDTeams'] = interactions.apply(lambda x: '_'.join(map(str, [x['Target_x'].split('_')[1], x['Target_x'].split('_')[1]])), axis=1)\n",
    "    interactions = interactions[['IDTeams', 'Predictions_x']]\n",
    "    interactions = interactions.groupby(['IDTeams'], as_index=False)[['Predictions_x']].sum()\n",
    "    interactions = {k:int(v) for k, v in interactions.values}\n",
    "    \n",
    "    x1['Interactions'] = x1['IDTeams'].map(interactions).fillna(0)\n",
    "    x2['Interactions'] = x2['IDTeams'].map(interactions).fillna(0)\n",
    "    test['Interactions'] = test['IDTeams'].map(interactions).fillna(0)\n",
    "    cols = [c for c in x1.columns if c not in ['ID', 'Team1', 'Team2', 'IDTeams', 'IDTeam1', 'IDTeam2', 'Predictions', 'DayNum', 'WTeamID', 'WScore', 'LTeamID', 'LScore', 'NumOT', 'Score_Differential']]\n",
    "    \n",
    "#     X = x1[cols]\n",
    "#     y = x1['Predictions']\n",
    "#     model = linear_model.HuberRegressor()\n",
    "\n",
    "#     model.fit(X,y)\n",
    "#     preds = model.predict(x2[cols]).clip(0.05, 0.95)\n",
    "#     print('Log Loss:', metrics.log_loss(x2['Predictions'], pred))\n",
    "    \n",
    "\n",
    "#     test['Predictions'] = model.predict(test[cols])\n",
    "\n",
    "#     results.append(test)\n",
    "                       \n",
    "\n",
    "# results = pd.concat(results, axis=0, ignore_index=True).reset_index(drop=True)\n",
    "# results = {k:float(v) for k,v in results[['ID', 'Predictions']].values}\n",
    "# submission['Predictions'] = submission['ID'].map(results).clip(0.05, 0.95).fillna(0.49)\n",
    "# submission[['ID', 'Predictions']].to_csv('ridge_submission.csv', index=False)"
   ]
  },
  {
   "cell_type": "code",
   "execution_count": 121,
   "metadata": {},
   "outputs": [
    {
     "data": {
      "text/html": [
       "<div>\n",
       "<table border=\"1\" class=\"dataframe\">\n",
       "  <thead>\n",
       "    <tr style=\"text-align: right;\">\n",
       "      <th></th>\n",
       "      <th>DayNum</th>\n",
       "      <th>LScore</th>\n",
       "      <th>LTeamID</th>\n",
       "      <th>NumOT</th>\n",
       "      <th>Season</th>\n",
       "      <th>SecondaryTourney</th>\n",
       "      <th>WLoc</th>\n",
       "      <th>WScore</th>\n",
       "      <th>WTeamID</th>\n",
       "      <th>ID</th>\n",
       "      <th>...</th>\n",
       "      <th>Team2</th>\n",
       "      <th>IDTeam1</th>\n",
       "      <th>IDTeam2</th>\n",
       "      <th>Team1Seed</th>\n",
       "      <th>Team2Seed</th>\n",
       "      <th>Score_Differential</th>\n",
       "      <th>Predictions</th>\n",
       "      <th>Normalized_Score_Diff</th>\n",
       "      <th>Seed_Differential</th>\n",
       "      <th>Interactions</th>\n",
       "    </tr>\n",
       "  </thead>\n",
       "  <tbody>\n",
       "  </tbody>\n",
       "</table>\n",
       "<p>0 rows × 22 columns</p>\n",
       "</div>"
      ],
      "text/plain": [
       "Empty DataFrame\n",
       "Columns: [DayNum, LScore, LTeamID, NumOT, Season, SecondaryTourney, WLoc, WScore, WTeamID, ID, IDTeams, Team1, Team2, IDTeam1, IDTeam2, Team1Seed, Team2Seed, Score_Differential, Predictions, Normalized_Score_Diff, Seed_Differential, Interactions]\n",
       "Index: []\n",
       "\n",
       "[0 rows x 22 columns]"
      ]
     },
     "execution_count": 121,
     "metadata": {},
     "output_type": "execute_result"
    }
   ],
   "source": [
    "x2"
   ]
  },
  {
   "cell_type": "code",
   "execution_count": null,
   "metadata": {},
   "outputs": [],
   "source": []
  }
 ],
 "metadata": {
  "kernelspec": {
   "display_name": "Python 3",
   "language": "python",
   "name": "python3"
  },
  "language_info": {
   "codemirror_mode": {
    "name": "ipython",
    "version": 3
   },
   "file_extension": ".py",
   "mimetype": "text/x-python",
   "name": "python",
   "nbconvert_exporter": "python",
   "pygments_lexer": "ipython3",
   "version": "3.6.3"
  }
 },
 "nbformat": 4,
 "nbformat_minor": 2
}
